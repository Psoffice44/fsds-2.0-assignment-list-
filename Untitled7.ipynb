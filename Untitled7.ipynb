{
  "nbformat": 4,
  "nbformat_minor": 0,
  "metadata": {
    "colab": {
      "provenance": []
    },
    "kernelspec": {
      "name": "python3",
      "display_name": "Python 3"
    },
    "language_info": {
      "name": "python"
    }
  },
  "cells": [
    {
      "cell_type": "markdown",
      "source": [
        "#  *1. In the below elements which of them are values or an expression? eg:- values can be integer or string and expressions will be mathematical operators.*\n",
        "\n",
        "\n",
        "1.) *\n",
        "\n",
        "2.) 'hello'\n",
        "\n",
        "\n",
        "\n",
        "3.) -87.8\n",
        "\n",
        "\n",
        "4.) -\n",
        "\n",
        "\n",
        "5.) /\n",
        "\n",
        "\n",
        "6.) +\n",
        "\n",
        "\n"
      ],
      "metadata": {
        "id": "AP1dzIfu8zXX"
      }
    },
    {
      "cell_type": "code",
      "source": [
        "b = -87.8     #  -87.8 is a floating point value\n",
        "type(b)"
      ],
      "metadata": {
        "colab": {
          "base_uri": "https://localhost:8080/"
        },
        "id": "yO-X-S1T-aih",
        "outputId": "d9ec7356-d2a4-445a-89d6-8f7f45d6f3e9"
      },
      "execution_count": 27,
      "outputs": [
        {
          "output_type": "execute_result",
          "data": {
            "text/plain": [
              "float"
            ]
          },
          "metadata": {},
          "execution_count": 27
        }
      ]
    },
    {
      "cell_type": "code",
      "source": [
        "a = \"hello\"   #  'hello' is a string \n",
        "type(a)"
      ],
      "metadata": {
        "colab": {
          "base_uri": "https://localhost:8080/"
        },
        "id": "kQa1QG8n-VUh",
        "outputId": "d3472acd-ed96-46ef-fa5e-a277d7d490b0"
      },
      "execution_count": 28,
      "outputs": [
        {
          "output_type": "execute_result",
          "data": {
            "text/plain": [
              "str"
            ]
          },
          "metadata": {},
          "execution_count": 28
        }
      ]
    },
    {
      "cell_type": "code",
      "source": [
        "\n",
        "c = 6         # 6  is an integer value\n",
        "type (c)"
      ],
      "metadata": {
        "colab": {
          "base_uri": "https://localhost:8080/"
        },
        "id": "jNIsmCY--gmz",
        "outputId": "f39710ce-1a07-4a51-d1d4-233c1a236603"
      },
      "execution_count": 29,
      "outputs": [
        {
          "output_type": "execute_result",
          "data": {
            "text/plain": [
              "int"
            ]
          },
          "metadata": {},
          "execution_count": 29
        }
      ]
    },
    {
      "cell_type": "code",
      "source": [
        "b = 10\n",
        "a= -b\n",
        "print(a)     #  -a is an expression using the negation operator\n",
        "type (a)"
      ],
      "metadata": {
        "colab": {
          "base_uri": "https://localhost:8080/"
        },
        "id": "8SOBkLFz-kIl",
        "outputId": "3aed312d-6436-4e54-b2c7-9b770f4b607b"
      },
      "execution_count": 30,
      "outputs": [
        {
          "output_type": "stream",
          "name": "stdout",
          "text": [
            "-10\n"
          ]
        },
        {
          "output_type": "execute_result",
          "data": {
            "text/plain": [
              "int"
            ]
          },
          "metadata": {},
          "execution_count": 30
        }
      ]
    },
    {
      "cell_type": "code",
      "source": [
        "a=1\n",
        "b=2\n",
        "c=a/b\n",
        "type(\"c\")     #  a / b is an expression using the division operator"
      ],
      "metadata": {
        "colab": {
          "base_uri": "https://localhost:8080/"
        },
        "id": "SJsc-eqCCSO0",
        "outputId": "8c75b0e2-316a-4fc6-fc1a-fbd4c9f6d1ab"
      },
      "execution_count": 32,
      "outputs": [
        {
          "output_type": "execute_result",
          "data": {
            "text/plain": [
              "str"
            ]
          },
          "metadata": {},
          "execution_count": 32
        }
      ]
    },
    {
      "cell_type": "code",
      "source": [
        "a+b           #a + b is an expression using the addition operator \n",
        "               "
      ],
      "metadata": {
        "colab": {
          "base_uri": "https://localhost:8080/"
        },
        "id": "LH11Hw04DeyN",
        "outputId": "4e2f94cd-574a-420d-90e6-ff52fed4d95a"
      },
      "execution_count": 35,
      "outputs": [
        {
          "output_type": "execute_result",
          "data": {
            "text/plain": [
              "3"
            ]
          },
          "metadata": {},
          "execution_count": 35
        }
      ]
    },
    {
      "cell_type": "markdown",
      "source": [
        "#*2. What is the difference between string and variable?*"
      ],
      "metadata": {
        "id": "spZFPDymD1Uh"
      }
    },
    {
      "cell_type": "markdown",
      "source": [
        "###stings are the values which we use to represent text"
      ],
      "metadata": {
        "id": "vfuYCfOtG3Cs"
      }
    },
    {
      "cell_type": "code",
      "source": [
        "#   stings are the values which we use to represent text\n",
        "print(\"hello world\") # here hello world is a string"
      ],
      "metadata": {
        "colab": {
          "base_uri": "https://localhost:8080/"
        },
        "id": "DwMTKkxtD_J5",
        "outputId": "547fd657-4f04-4fb3-9a9a-564314c101a4"
      },
      "execution_count": 44,
      "outputs": [
        {
          "output_type": "stream",
          "name": "stdout",
          "text": [
            "hello world\n"
          ]
        }
      ]
    },
    {
      "cell_type": "markdown",
      "source": [
        "###Variables are named storage locations that can store values that can change during the execution of a program.\n"
      ],
      "metadata": {
        "id": "vbLNpmTXGIUd"
      }
    },
    {
      "cell_type": "code",
      "source": [
        "#   Variables are named storage locations that can store values that can change during the execution of a program.\n",
        "name :\"Aman\"\n",
        "age : \"30\"  # here name and age is a variable"
      ],
      "metadata": {
        "id": "tzrrJTTpFN-Q"
      },
      "execution_count": 45,
      "outputs": []
    },
    {
      "cell_type": "markdown",
      "source": [
        "#*3. Describe three different data types.*"
      ],
      "metadata": {
        "id": "jP1brDEuHOHR"
      }
    },
    {
      "cell_type": "markdown",
      "source": [
        "### In Python, there are several built-in data types, but here are three of the most common:\n",
        "###Integer (int): An integer is a whole number, such as 1, 42, or -5.\n",
        "\n",
        "### Floating-point number (float): A floating-point number is a number with a decimal component, such as 3.14 or -0.01.\n",
        "\n",
        "### String (str): A string is a sequence of characters, such as \"hello\" or \"goodbye\". Strings are usually enclosed in quotes."
      ],
      "metadata": {
        "id": "0q64xTU2H-Se"
      }
    },
    {
      "cell_type": "code",
      "source": [
        "a=42 # integer\n",
        "type(a)"
      ],
      "metadata": {
        "colab": {
          "base_uri": "https://localhost:8080/"
        },
        "id": "ylbZY9vfHhfn",
        "outputId": "5584ec8e-a3df-41d6-87d8-9565293b85a5"
      },
      "execution_count": 48,
      "outputs": [
        {
          "output_type": "execute_result",
          "data": {
            "text/plain": [
              "str"
            ]
          },
          "metadata": {},
          "execution_count": 48
        }
      ]
    },
    {
      "cell_type": "code",
      "source": [
        "a=42.5 # float value\n",
        "type(a)"
      ],
      "metadata": {
        "colab": {
          "base_uri": "https://localhost:8080/"
        },
        "id": "7mFWJb_fIpNe",
        "outputId": "ea94087a-bf8d-49ad-eb1c-6e2b73baeff7"
      },
      "execution_count": 49,
      "outputs": [
        {
          "output_type": "execute_result",
          "data": {
            "text/plain": [
              "float"
            ]
          },
          "metadata": {},
          "execution_count": 49
        }
      ]
    },
    {
      "cell_type": "code",
      "source": [
        "name=\"aman\"\n",
        "type(\"name\") # string"
      ],
      "metadata": {
        "colab": {
          "base_uri": "https://localhost:8080/"
        },
        "id": "khVoajsqI_XN",
        "outputId": "4aed2e62-65e5-4748-a6a5-d0dab49f71a9"
      },
      "execution_count": 51,
      "outputs": [
        {
          "output_type": "execute_result",
          "data": {
            "text/plain": [
              "str"
            ]
          },
          "metadata": {},
          "execution_count": 51
        }
      ]
    },
    {
      "cell_type": "markdown",
      "source": [
        "#*4. What is an expression made up of? What do all expressions do?*"
      ],
      "metadata": {
        "id": "96wro7RJKZEV"
      }
    },
    {
      "cell_type": "markdown",
      "source": [
        "###an expression is a combination of values, variables, and operators that we use to get the output from it"
      ],
      "metadata": {
        "id": "ZRhTLzEJK7s_"
      }
    },
    {
      "cell_type": "code",
      "source": [
        "a=3\n",
        "b=4\n",
        "a+b #we use expressions to get the output"
      ],
      "metadata": {
        "colab": {
          "base_uri": "https://localhost:8080/"
        },
        "id": "iMd01F-EKm8F",
        "outputId": "c88c5914-0f7b-476c-fb38-93d41a60a20a"
      },
      "execution_count": 52,
      "outputs": [
        {
          "output_type": "execute_result",
          "data": {
            "text/plain": [
              "7"
            ]
          },
          "metadata": {},
          "execution_count": 52
        }
      ]
    },
    {
      "cell_type": "markdown",
      "source": [
        "#*5. This assignment statements, like spam = 10. What is the difference between an expression and a statement?*"
      ],
      "metadata": {
        "id": "lm0wTt7ALmSD"
      }
    },
    {
      "cell_type": "markdown",
      "source": [
        "### expression is use to evaluate the value with the help of mathematical operators while statement is use to conduct an action  "
      ],
      "metadata": {
        "id": "O-tkByDHPCJk"
      }
    },
    {
      "cell_type": "code",
      "source": [
        "5+5 #it is an expression"
      ],
      "metadata": {
        "colab": {
          "base_uri": "https://localhost:8080/"
        },
        "id": "f9hZuU1wPfjb",
        "outputId": "d338a5bf-4b6a-4c3e-a572-156500399057"
      },
      "execution_count": 53,
      "outputs": [
        {
          "output_type": "execute_result",
          "data": {
            "text/plain": [
              "10"
            ]
          },
          "metadata": {},
          "execution_count": 53
        }
      ]
    },
    {
      "cell_type": "code",
      "source": [
        "spam = 5+5\n",
        "print(f\"spam ={spam} \") # spam is an action which helps to get result"
      ],
      "metadata": {
        "colab": {
          "base_uri": "https://localhost:8080/"
        },
        "id": "ykdasn-yP6Gb",
        "outputId": "9658e9ba-2ec1-4166-96c0-b5e39615d431"
      },
      "execution_count": 58,
      "outputs": [
        {
          "output_type": "stream",
          "name": "stdout",
          "text": [
            "spam =10 \n"
          ]
        }
      ]
    },
    {
      "cell_type": "markdown",
      "source": [
        "# *6. After running the following code, what does the variable bacon contain?*\n",
        "# bacon = 22\n",
        "# bacon + 1"
      ],
      "metadata": {
        "id": "EC47OmjuQmxJ"
      }
    },
    {
      "cell_type": "code",
      "source": [
        "bacon = 22\n",
        "bacon=bacon+1\n",
        "bacon            # Now the value of bacon would be updated to 23."
      ],
      "metadata": {
        "colab": {
          "base_uri": "https://localhost:8080/"
        },
        "id": "RduieSrXQzx3",
        "outputId": "e0366eb4-be87-4be1-c202-a4d9df88b79e"
      },
      "execution_count": 60,
      "outputs": [
        {
          "output_type": "execute_result",
          "data": {
            "text/plain": [
              "23"
            ]
          },
          "metadata": {},
          "execution_count": 60
        }
      ]
    },
    {
      "cell_type": "markdown",
      "source": [
        "#7.) What should the values of the following two terms be?\n",
        "\n",
        "\n",
        "### 'spam'+ 'spamspam'\n",
        "\n",
        "### 'spam'*3\n",
        "\n",
        "\n"
      ],
      "metadata": {
        "id": "soQdoXnFRQZt"
      }
    },
    {
      "cell_type": "code",
      "source": [
        "'spam'+ 'spamspam'  # concatination"
      ],
      "metadata": {
        "colab": {
          "base_uri": "https://localhost:8080/",
          "height": 35
        },
        "id": "tEZLmBG1SuoT",
        "outputId": "d5ea6cc7-6ca5-4659-a359-eafe800cbb47"
      },
      "execution_count": 61,
      "outputs": [
        {
          "output_type": "execute_result",
          "data": {
            "text/plain": [
              "'spamspamspam'"
            ],
            "application/vnd.google.colaboratory.intrinsic+json": {
              "type": "string"
            }
          },
          "metadata": {},
          "execution_count": 61
        }
      ]
    },
    {
      "cell_type": "code",
      "source": [
        "'spam'*3 # three times spam combined"
      ],
      "metadata": {
        "colab": {
          "base_uri": "https://localhost:8080/",
          "height": 35
        },
        "id": "u6ehl-kIS_e0",
        "outputId": "1ec6e5f8-3f2c-4ad8-df9b-38817676d177"
      },
      "execution_count": 63,
      "outputs": [
        {
          "output_type": "execute_result",
          "data": {
            "text/plain": [
              "'spamspamspam'"
            ],
            "application/vnd.google.colaboratory.intrinsic+json": {
              "type": "string"
            }
          },
          "metadata": {},
          "execution_count": 63
        }
      ]
    },
    {
      "cell_type": "markdown",
      "source": [
        "#*8.) Why is eggs a valid variable name while 100 is invalid?*\n",
        "\n",
        "\n",
        "\n",
        "\n",
        "\n"
      ],
      "metadata": {
        "id": "EPne9CQqS31M"
      }
    },
    {
      "cell_type": "markdown",
      "source": [
        "### In Python, variable names must follow certain naming conventions to be considered valid. A valid variable name:\n",
        "\n",
        "### Must start with a letter or an underscore Cannot start with a number\n",
        "### Can only contain letters, numbers, and underscores\n",
        "### Is case-sensitive Therefore, eggs is a valid variable name because it starts with a letter and only contains letters and underscores. On the other hand, 100 is not a valid variable name because it starts with a number.\n",
        "\n",
        "### It is recommended to choose descriptive and meaningful names for your variables, such as eggs instead of generic names like x or y. This makes your code easier to read and understand."
      ],
      "metadata": {
        "id": "Alp5OlnKUi73"
      }
    },
    {
      "cell_type": "code",
      "source": [
        "100=10"
      ],
      "metadata": {
        "colab": {
          "base_uri": "https://localhost:8080/",
          "height": 130
        },
        "id": "VRemJKaoU1NJ",
        "outputId": "48d18e22-9541-4c70-c341-9aaa236b5e25"
      },
      "execution_count": 65,
      "outputs": [
        {
          "output_type": "error",
          "ename": "SyntaxError",
          "evalue": "ignored",
          "traceback": [
            "\u001b[0;36m  File \u001b[0;32m\"<ipython-input-65-7e969e16e65a>\"\u001b[0;36m, line \u001b[0;32m1\u001b[0m\n\u001b[0;31m    100=10\u001b[0m\n\u001b[0m    ^\u001b[0m\n\u001b[0;31mSyntaxError\u001b[0m\u001b[0;31m:\u001b[0m cannot assign to literal\n"
          ]
        }
      ]
    },
    {
      "cell_type": "code",
      "source": [
        "egg=100"
      ],
      "metadata": {
        "id": "-3vWdYVPVLBB"
      },
      "execution_count": 66,
      "outputs": []
    },
    {
      "cell_type": "code",
      "source": [
        "_100=100  # but we have some alternatives"
      ],
      "metadata": {
        "id": "uUia3zSeVN2Y"
      },
      "execution_count": 69,
      "outputs": []
    },
    {
      "cell_type": "markdown",
      "source": [
        "#*9. What three functions can be used to get the integer, floating-point number, or string version of a value?*"
      ],
      "metadata": {
        "id": "7tlXzI3yVsRq"
      }
    },
    {
      "cell_type": "markdown",
      "source": [
        "###In Python, the following three functions can be used to get the integer, floating-point number, or string version of a value:\n",
        "\n",
        "###int(): This function can be used to convert a floating-point number or a string representation of a number to an integer. For example:"
      ],
      "metadata": {
        "id": "T2Hx_SYAW0aY"
      }
    },
    {
      "cell_type": "code",
      "source": [
        "int(3.14)  # Returns 3"
      ],
      "metadata": {
        "colab": {
          "base_uri": "https://localhost:8080/"
        },
        "id": "YSt9QCehVRpR",
        "outputId": "3870460f-d99f-4c02-c3f7-ae4dcb2df4ab"
      },
      "execution_count": 71,
      "outputs": [
        {
          "output_type": "execute_result",
          "data": {
            "text/plain": [
              "3"
            ]
          },
          "metadata": {},
          "execution_count": 71
        }
      ]
    },
    {
      "cell_type": "code",
      "source": [
        "int(\"42\")  # Returns 42"
      ],
      "metadata": {
        "colab": {
          "base_uri": "https://localhost:8080/"
        },
        "id": "PX74xvPeXSaG",
        "outputId": "6fa554cd-2d00-4cd9-c8f0-b91ee9267ed6"
      },
      "execution_count": 74,
      "outputs": [
        {
          "output_type": "execute_result",
          "data": {
            "text/plain": [
              "42"
            ]
          },
          "metadata": {},
          "execution_count": 74
        }
      ]
    },
    {
      "cell_type": "markdown",
      "source": [
        "###float(): This function can be used to convert an integer or a string representation of a number to a floating-point number. For example:\n"
      ],
      "metadata": {
        "id": "kvvOoddtXlk0"
      }
    },
    {
      "cell_type": "code",
      "source": [
        "\n",
        "float(\"3.14\")  # Returns 3.14"
      ],
      "metadata": {
        "colab": {
          "base_uri": "https://localhost:8080/"
        },
        "id": "8oUKKxykXtW4",
        "outputId": "316e6768-638b-4da7-b3cf-7d66b9b9af35"
      },
      "execution_count": 76,
      "outputs": [
        {
          "output_type": "execute_result",
          "data": {
            "text/plain": [
              "3.14"
            ]
          },
          "metadata": {},
          "execution_count": 76
        }
      ]
    },
    {
      "cell_type": "markdown",
      "source": [
        "### str(): This function can be used to convert a number or any other value to a string representation. For example:"
      ],
      "metadata": {
        "id": "Ll3npMcHX6Fg"
      }
    },
    {
      "cell_type": "code",
      "source": [
        "str(\"3.14\")  # Returns \"3.14\""
      ],
      "metadata": {
        "colab": {
          "base_uri": "https://localhost:8080/",
          "height": 35
        },
        "id": "y-NlznbZYGcj",
        "outputId": "65ddcf3d-2e86-48b4-84eb-9ebfd8521501"
      },
      "execution_count": 77,
      "outputs": [
        {
          "output_type": "execute_result",
          "data": {
            "text/plain": [
              "'3.14'"
            ],
            "application/vnd.google.colaboratory.intrinsic+json": {
              "type": "string"
            }
          },
          "metadata": {},
          "execution_count": 77
        }
      ]
    },
    {
      "cell_type": "markdown",
      "source": [
        "#10. Why does this expression cause an error? How can you fix it?\n",
        "# 'I have eaten'  +99 + ' burritos.'"
      ],
      "metadata": {
        "id": "f9TaGlx-YX-H"
      }
    },
    {
      "cell_type": "markdown",
      "source": [
        "### The str() function is used to convert the integer value 99 to a string, so that it can be concatenated with the other string values. The plus operator + is used to concatenate strings in Python.\n",
        "\n"
      ],
      "metadata": {
        "id": "PI018oxTZau4"
      }
    },
    {
      "cell_type": "code",
      "source": [
        "'I have eaten '  + str(99) + ' burritos.' # because all the values should be in string to concatinate each other"
      ],
      "metadata": {
        "colab": {
          "base_uri": "https://localhost:8080/",
          "height": 35
        },
        "id": "S37xX3xIYuBz",
        "outputId": "956d7f1a-ff16-4920-80d7-782da22492a8"
      },
      "execution_count": 80,
      "outputs": [
        {
          "output_type": "execute_result",
          "data": {
            "text/plain": [
              "'I have eaten 99 burritos.'"
            ],
            "application/vnd.google.colaboratory.intrinsic+json": {
              "type": "string"
            }
          },
          "metadata": {},
          "execution_count": 80
        }
      ]
    }
  ]
}